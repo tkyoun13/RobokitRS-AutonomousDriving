{
 "cells": [
  {
   "cell_type": "markdown",
   "id": "609915f2",
   "metadata": {
    "id": "609915f2"
   },
   "source": [
    "#### 1. 라이브러리 불러오기"
   ]
  },
  {
   "cell_type": "code",
   "execution_count": null,
   "id": "51bd83d9",
   "metadata": {
    "id": "51bd83d9",
    "outputId": "6b169c22-5935-4d88-d021-8fe8b4541f87"
   },
   "outputs": [
    {
     "name": "stdout",
     "output_type": "stream",
     "text": [
      "C:\\ProgramData\\Anaconda3\\lib\\site-packages\\RobokitRS\\pins\n"
     ]
    }
   ],
   "source": [
    "from RobokitRS.RobokitRS import *\n",
    "import time\n",
    "\n",
    "rs = RobokitRS()"
   ]
  },
  {
   "cell_type": "markdown",
   "id": "152a250d",
   "metadata": {
    "id": "152a250d"
   },
   "source": [
    "#### 2. 포트 연결하기"
   ]
  },
  {
   "cell_type": "code",
   "execution_count": null,
   "id": "ae587563",
   "metadata": {
    "id": "ae587563",
    "outputId": "d667072e-9509-4814-d8e0-9f8239b47a98"
   },
   "outputs": [
    {
     "name": "stdout",
     "output_type": "stream",
     "text": [
      "RSBoard serial port opend\n",
      "Thread init done\n",
      "Pin mode init done\n",
      "Sysex init done\n",
      "RSBoard init done\n"
     ]
    },
    {
     "data": {
      "text/plain": [
       "True"
      ]
     },
     "execution_count": 26,
     "metadata": {},
     "output_type": "execute_result"
    }
   ],
   "source": [
    "rs.port_open(\"COM4\")"
   ]
  },
  {
   "cell_type": "markdown",
   "id": "ff82a003",
   "metadata": {
    "id": "ff82a003"
   },
   "source": [
    "#### 3. 적외선 센서원리\n",
    "\n",
    "- 왼쪽 적외선센서 : Analog 4번핀에 연결\n",
    "- 오른쪽 적외선 센서 : Analog 5번 핀에 연결\n"
   ]
  },
  {
   "cell_type": "code",
   "execution_count": null,
   "id": "03b1b08e",
   "metadata": {
    "id": "03b1b08e",
    "outputId": "25c04d73-6d4d-47e4-8743-ea87f67c47d5"
   },
   "outputs": [
    {
     "name": "stdout",
     "output_type": "stream",
     "text": [
      "29 813\n",
      "29 813\n",
      "30 814\n",
      "29 813\n",
      "29 813\n",
      "29 813\n",
      "29 813\n",
      "30 813\n",
      "29 813\n",
      "30 813\n"
     ]
    }
   ],
   "source": [
    "# 적외선 센서값 확인하기\n",
    "\n",
    "for i in range(10):\n",
    "    L = rs.analog_read(4)\n",
    "    R = rs.analog_read(5)\n",
    "    print(L, R)\n",
    "    time.sleep(0.1)"
   ]
  },
  {
   "cell_type": "markdown",
   "id": "f5179bfd",
   "metadata": {
    "id": "f5179bfd"
   },
   "source": [
    "#### 4. 모빌리티 동작 함수 정의하기"
   ]
  },
  {
   "cell_type": "code",
   "execution_count": null,
   "id": "b42e2612",
   "metadata": {
    "id": "b42e2612"
   },
   "outputs": [],
   "source": [
    "# 전진\n",
    "def forward(speed=3):\n",
    "    rs.motor_write(0, 1, speed)\n",
    "    rs.motor_write(1, 0, speed)\n",
    "    rs.motor_write(2, 1, speed)\n",
    "    rs.motor_write(3, 0, speed)\n",
    "    time.sleep(0.1)\n",
    "\n",
    "# 후진\n",
    "def reverse(speed=5):\n",
    "    rs.motor_write(0, 0, speed)\n",
    "    rs.motor_write(1, 1, speed)\n",
    "    rs.motor_write(2, 0, speed)\n",
    "    rs.motor_write(3, 1, speed)\n",
    "    time.sleep(0.1)\n",
    "\n",
    "# 정지\n",
    "def stop():\n",
    "    rs.motor_write(0, 1, 0)\n",
    "    rs.motor_write(1, 0, 0)\n",
    "    rs.motor_write(2, 1, 0)\n",
    "    rs.motor_write(3, 0, 0)\n",
    "\n",
    "#우회전\n",
    "def R_turn(speed = 15):\n",
    "    rs.motor_write(0, 1, speed)\n",
    "    rs.motor_write(1, 1, speed)\n",
    "    rs.motor_write(2, 1, speed)\n",
    "    rs.motor_write(3, 1, speed)\n",
    "    time.sleep(0.3)\n",
    "\n",
    "#좌회전\n",
    "def L_turn(speed = 15):\n",
    "    rs.motor_write(0, 0, speed)\n",
    "    rs.motor_write(1, 0, speed)\n",
    "    rs.motor_write(2, 0, speed)\n",
    "    rs.motor_write(3, 0, speed)\n",
    "    time.sleep(0.3)\n",
    "\n",
    "# 추가 _ 한쪽 바퀴\n",
    "def RR(speed = 15):\n",
    "    rs.motor_write(0, 1, speed)\n",
    "    rs.motor_write(1, 0, 0)\n",
    "    rs.motor_write(2, 1, speed)\n",
    "    rs.motor_write(3, 0, 0)\n",
    "    time.sleep(1)\n",
    "\n",
    "def LL(speed = 15):\n",
    "    rs.motor_write(0, 1, 0)\n",
    "    rs.motor_write(1, 0, speed)\n",
    "    rs.motor_write(2, 1, 0)\n",
    "    rs.motor_write(3, 0, speed)\n",
    "    time.sleep(1)"
   ]
  },
  {
   "cell_type": "code",
   "execution_count": null,
   "id": "9cf81e62",
   "metadata": {
    "id": "9cf81e62"
   },
   "outputs": [],
   "source": [
    "forward()\n",
    "stop()"
   ]
  },
  {
   "cell_type": "markdown",
   "id": "9193100e",
   "metadata": {
    "id": "9193100e"
   },
   "source": [
    "#### 5.  라인트레이싱\n",
    "\n",
    "\n",
    "➊ 제자리 좌회전, 우회전으로 회전하기\n",
    "\n",
    "- 왼쪽 적외선센서 : Analog 4번핀에 연결\n",
    "- 오른쪽 적외선 센서 : Analog 5번 핀에 연결"
   ]
  },
  {
   "cell_type": "code",
   "execution_count": null,
   "id": "f1a0e04d",
   "metadata": {
    "id": "f1a0e04d"
   },
   "outputs": [],
   "source": [
    "try:\n",
    "    while True:\n",
    "        L = rs.analog_read(4)\n",
    "        R = rs.analog_read(5)\n",
    "        #print(L, R)\n",
    "        if L < 100 and R > 100:\n",
    "            L_turn()\n",
    "\n",
    "        elif L > 100 and R < 100:\n",
    "            R_turn()\n",
    "\n",
    "        elif L < 100 and R < 100 :\n",
    "            stop()\n",
    "            break\n",
    "\n",
    "        forward(5)\n",
    "except:\n",
    "    print(\"Error\")\n",
    "    stop()\n",
    "\n",
    "finally:\n",
    "    stop()"
   ]
  },
  {
   "cell_type": "markdown",
   "id": "6ba188b5",
   "metadata": {
    "id": "6ba188b5"
   },
   "source": [
    "➋ 한쪽바퀴 정지하여 좌회전 우회전 하기"
   ]
  },
  {
   "cell_type": "code",
   "execution_count": null,
   "id": "ecbeedc9",
   "metadata": {
    "id": "ecbeedc9"
   },
   "outputs": [],
   "source": [
    "try:\n",
    "    while True :\n",
    "        L = rs.analog_read(4)\n",
    "        R = rs.analog_read(5)\n",
    "        #print(L, R)\n",
    "\n",
    "        if L < 100 and R > 100:\n",
    "            LL()\n",
    "\n",
    "        elif L > 100 and R < 100:\n",
    "            RR()\n",
    "\n",
    "        elif L < 100 and R < 100:\n",
    "            stop()\n",
    "            break\n",
    "\n",
    "        forward()\n",
    "except:\n",
    "    print(\"Error\")\n",
    "    stop()\n",
    "\n",
    "finally:\n",
    "    stop()"
   ]
  },
  {
   "cell_type": "markdown",
   "id": "9d7301f2",
   "metadata": {
    "id": "9d7301f2"
   },
   "source": [
    "![image.png](attachment:image.png)"
   ]
  },
  {
   "cell_type": "markdown",
   "id": "d34e002b",
   "metadata": {
    "id": "d34e002b"
   },
   "source": [
    "#### [미션코드1]"
   ]
  },
  {
   "cell_type": "code",
   "execution_count": null,
   "id": "3212bf19",
   "metadata": {
    "id": "3212bf19"
   },
   "outputs": [],
   "source": [
    "while True :\n",
    "        L = rs.analog_read(4)\n",
    "        R = rs.analog_read(5)\n",
    "        #print(L, R)\n",
    "\n",
    "        if L < 100 and R > 100:\n",
    "            L = rs.analog_read(4)\n",
    "\n",
    "            while L < 100:\n",
    "                L = rs.analog_read(4)\n",
    "                LL2()\n",
    "            stop()\n",
    "\n",
    "        elif L > 100 and R < 100:\n",
    "            R = rs.analog_read(5)\n",
    "\n",
    "            while R<100:\n",
    "                R = rs.analog_read(5)\n",
    "                RR2()\n",
    "            stop()\n",
    "\n",
    "        elif L < 100 and R < 100:\n",
    "            stop()\n",
    "            break\n",
    "\n",
    "        forward(3)"
   ]
  },
  {
   "cell_type": "markdown",
   "id": "3098f8b5",
   "metadata": {
    "id": "3098f8b5"
   },
   "source": [
    "➌ 정지선에서 LED켜기"
   ]
  },
  {
   "cell_type": "code",
   "execution_count": null,
   "id": "a6801c6e",
   "metadata": {
    "id": "a6801c6e"
   },
   "outputs": [],
   "source": [
    "try:\n",
    "    while True:\n",
    "        L = rs.analog_read(4)\n",
    "        R = rs.analog_read(5)\n",
    "        print(L, R)\n",
    "\n",
    "        if L < 100 and R > 100:\n",
    "            L_turn()\n",
    "\n",
    "        elif L > 100 and R < 100:\n",
    "            R_turn()\n",
    "\n",
    "        elif L < 100 and R < 100 :\n",
    "            stop()\n",
    "            time.sleep(1)\n",
    "            rs.set_rgb_led_red(12)   # 빨간색 LED켜기\n",
    "            rs.set_rgb_led_on(12)\n",
    "            rs.delay()\n",
    "            rs.set_rgb_led_off(12)   # LED 끄기\n",
    "            forward()                # 검은선 빠져나가기\n",
    "            time.sleep(1)\n",
    "\n",
    "        forward(2)\n",
    "except:\n",
    "    print(\"Error\")\n",
    "    stop()\n",
    "\n",
    "finally:\n",
    "    stop()"
   ]
  },
  {
   "cell_type": "markdown",
   "id": "beece42e",
   "metadata": {
    "id": "beece42e"
   },
   "source": [
    "#### [미션코드 2]"
   ]
  },
  {
   "cell_type": "code",
   "execution_count": null,
   "id": "bedf31eb",
   "metadata": {
    "id": "bedf31eb"
   },
   "outputs": [],
   "source": [
    "cnt = 0\n",
    "\n",
    "try :\n",
    "    while True :\n",
    "        L = rs.analog_read(4)\n",
    "        R = rs.analog_read(5)\n",
    "\n",
    "        if L < 100 and R > 100:\n",
    "            L_turn()\n",
    "\n",
    "        elif L > 100 and R < 100:\n",
    "            R1_turn()\n",
    "\n",
    "        elif L < 100 and R < 100:\n",
    "\n",
    "            cnt += 1\n",
    "            print(cnt)\n",
    "\n",
    "            if cnt == 1 :\n",
    "                stop()\n",
    "                time.sleep(0.5)\n",
    "                for i in range(3):\n",
    "                    rs.set_rgb_led_color(13,100,0,0)\n",
    "                    rs.set_rgb_led_on(13)\n",
    "                    rs.delay(0.5)\n",
    "                    rs.set_rgb_led_off(13)\n",
    "                    rs.delay(0.5)\n",
    "\n",
    "                forward(10)\n",
    "                time.sleep(0.5)\n",
    "\n",
    "            elif cnt == 2:\n",
    "                stop()\n",
    "                time.sleep(0.5)\n",
    "\n",
    "\n",
    "            elif cnt == 3:\n",
    "                stop()\n",
    "                time.sleep(0.5)\n",
    "\n",
    "            elif cnt == 4:\n",
    "                stop()\n",
    "                time.sleep(0.5)\n",
    "\n",
    "\n",
    "            elif cnt == 6:\n",
    "                forward()\n",
    "                time.sleep(0.5)\n",
    "                R_turn()\n",
    "                time.sleep(2)\n",
    "                R = rs.analog_read(5)\n",
    "                print(R)\n",
    "\n",
    "                while R > 100 :\n",
    "                    R = rs.analog_read(5)\n",
    "                    R_turn()\n",
    "                    print(R)\n",
    "\n",
    "                stop()\n",
    "\n",
    "            elif cnt == 9 :\n",
    "                stop()\n",
    "                break\n",
    "\n",
    "            forward()\n",
    "            time.sleep(0.5)\n",
    "\n",
    "\n",
    "\n",
    "        else :\n",
    "            forward(speed=5)\n",
    "\n",
    "except:\n",
    "    stop()"
   ]
  }
 ],
 "metadata": {
  "colab": {
   "provenance": []
  },
  "kernelspec": {
   "display_name": "Python 3 (ipykernel)",
   "language": "python",
   "name": "python3"
  },
  "language_info": {
   "codemirror_mode": {
    "name": "ipython",
    "version": 3
   },
   "file_extension": ".py",
   "mimetype": "text/x-python",
   "name": "python",
   "nbconvert_exporter": "python",
   "pygments_lexer": "ipython3",
   "version": "3.7.16"
  }
 },
 "nbformat": 4,
 "nbformat_minor": 5
}
