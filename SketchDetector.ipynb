{
 "cells": [
  {
   "cell_type": "markdown",
   "id": "44642782",
   "metadata": {
    "id": "44642782"
   },
   "source": [
    "* RoboCam 및 RobokitRS 라이브러리 업그레이드 필요\n",
    "  \n",
    "  1. pip install --upgrade RoboCam   # 버전 cam은 1.00.0.28 \n",
    "  2. pip install --upgrade RobokitsRS  # 버전 rs 는 1.0.1.24"
   ]
  },
  {
   "cell_type": "code",
   "execution_count": null,
   "id": "98b2c7a0",
   "metadata": {
    "id": "98b2c7a0",
    "scrolled": false
   },
   "outputs": [],
   "source": [
    "pip list"
   ]
  },
  {
   "cell_type": "code",
   "execution_count": null,
   "id": "838ad4e6",
   "metadata": {
    "id": "838ad4e6"
   },
   "outputs": [],
   "source": [
    "#1. robocam 라이브러리 불러오기\n",
    "from RoboCam.robocam import * \n",
    "rCam = RoboCam()"
   ]
  },
  {
   "cell_type": "code",
   "execution_count": null,
   "id": "a5ed16ef",
   "metadata": {
    "id": "a5ed16ef"
   },
   "outputs": [],
   "source": [
    "#2. RoboCam의 스트리밍을 준비 (비번 : 12345678)\n",
    "rCam.CameraStreamInit(512, 512)\n",
    "rCam.CameraStream()"
   ]
  },
  {
   "cell_type": "code",
   "execution_count": null,
   "id": "5e47aef2",
   "metadata": {
    "id": "5e47aef2",
    "scrolled": true
   },
   "outputs": [],
   "source": [
    "#3. 이미지 감지시작 \n",
    "rCam.SketchDetectorInit()\n",
    "rCam.SketchDetectorStart()"
   ]
  },
  {
   "cell_type": "code",
   "execution_count": null,
   "id": "fc65e99b",
   "metadata": {
    "id": "fc65e99b",
    "scrolled": true
   },
   "outputs": [],
   "source": [
    "#4. 이미지 학습하기 \n",
    "for i in range(4) : \n",
    "    print(\"================\")\n",
    "    print(\"사용할 기능을 입력해주세요.\")\n",
    "    print(\"1) capture\")\n",
    "    print(\"2) train\")\n",
    "    print(\"3) delete\")\n",
    "    \n",
    "    ins = input(\"입력해주세요: \")\n",
    "    \n",
    "    if ins == \"train\" : \n",
    "        rCam.TrainSketchData()\n",
    "    \n",
    "    elif ins == \"capture\" :\n",
    "        var = input(\"저장할 이름을입력해주세요: \")\n",
    "        rCam.SketchCapture(var, captureCount=5) # path=\"C:/Users/SeungHwanSin/Desktop/camtest2\"\n",
    "    \n",
    "    elif ins == \"delete\":\n",
    "        var = input(\"삭제할 이름을 입력해주세요: \")\n",
    "        rCam.DeleteSketchData(var)\n",
    "        \n",
    "    else :\n",
    "        print(\"잘못된 명령어입니다. 다시 입력해주세요.\")"
   ]
  },
  {
   "cell_type": "code",
   "execution_count": null,
   "id": "dceb428a",
   "metadata": {
    "id": "dceb428a"
   },
   "outputs": [],
   "source": [
    "rCam.TrainSketchData()"
   ]
  },
  {
   "cell_type": "code",
   "execution_count": null,
   "id": "ea1285fd",
   "metadata": {
    "id": "ea1285fd"
   },
   "outputs": [],
   "source": [
    "rCam.CameraStreamOff()"
   ]
  },
  {
   "cell_type": "code",
   "execution_count": null,
   "id": "6cff94e3",
   "metadata": {
    "id": "6cff94e3"
   },
   "outputs": [],
   "source": [
    "#5. RobokitRS 라이브러리 불러오기\n",
    "from RobokitRS.RobokitRS import *\n",
    "import time\n",
    "\n",
    "rs = RobokitRS()  #RobokitRS() 객체 담기"
   ]
  },
  {
   "cell_type": "code",
   "execution_count": null,
   "id": "e92b6056",
   "metadata": {
    "id": "e92b6056"
   },
   "outputs": [],
   "source": [
    "rs.port_open(\"COM12\") #포트번호는 개인마다 다름"
   ]
  },
  {
   "cell_type": "code",
   "execution_count": null,
   "id": "f6348021",
   "metadata": {
    "id": "f6348021"
   },
   "outputs": [],
   "source": [
    "#6. 모빌리티 동작 함수 정의하기\n",
    "# 전진\n",
    "def forward():\n",
    "    rs.motor_write(0, 1, 15)\n",
    "    rs.motor_write(1, 0, 15)\n",
    "    rs.motor_write(2, 1, 15)\n",
    "    rs.motor_write(3, 0, 15)\n",
    "    time.sleep(0.1)                                \n",
    "\n",
    "# 후진    \n",
    "def reverse():\n",
    "    rs.motor_write(0, 0, 15)\n",
    "    rs.motor_write(1, 1, 15)\n",
    "    rs.motor_write(2, 0, 15)\n",
    "    rs.motor_write(3, 1, 15)\n",
    "    time.sleep(0.1)\n",
    "\n",
    "# 정지\n",
    "def stop():\n",
    "    rs.motor_write(0, 1, 0)\n",
    "    rs.motor_write(1, 0, 0)\n",
    "    rs.motor_write(2, 1, 0)\n",
    "    rs.motor_write(3, 0, 0)\n",
    "    time.sleep(0.1)\n",
    "\n",
    "# 우측\n",
    "def right():\n",
    "    rs.motor_write(0, 1, 15)\n",
    "    rs.motor_write(1, 1, 15)\n",
    "    rs.motor_write(2, 0, 15)\n",
    "    rs.motor_write(3, 0, 15)\n",
    "    time.sleep(0.1)\n",
    "\n",
    "# 좌측 \n",
    "def left():\n",
    "    rs.motor_write(0, 0, 15)\n",
    "    rs.motor_write(1, 0, 15)\n",
    "    rs.motor_write(2, 1, 15)\n",
    "    rs.motor_write(3, 1, 15)\n",
    "    time.sleep(0.1)\n",
    "    \n",
    "#우회전\n",
    "def R_turn():\n",
    "    rs.motor_write(0, 1, 15)\n",
    "    rs.motor_write(1, 1, 15)\n",
    "    rs.motor_write(2, 1, 15)\n",
    "    rs.motor_write(3, 1, 15)\n",
    "    time.sleep(0.5)    \n",
    "\n",
    "#좌회전\n",
    "def L_turn():\n",
    "    rs.motor_write(0, 0, 15)\n",
    "    rs.motor_write(1, 0, 15)\n",
    "    rs.motor_write(2, 0, 15)\n",
    "    rs.motor_write(3, 0, 15)\n",
    "    time.sleep(0.5) "
   ]
  },
  {
   "cell_type": "code",
   "execution_count": null,
   "id": "51ea057f",
   "metadata": {
    "id": "51ea057f"
   },
   "outputs": [],
   "source": [
    "#7. 초음파 연결 및 값 확인하기 \n",
    "rs.sonar_begin(13) \n",
    "i = 0\n",
    "while i < 10:\n",
    "    i += 1\n",
    "    time.sleep(0.5)\n",
    "    SONAR = rs.sonar_read(13)\n",
    "    print(SONAR)"
   ]
  },
  {
   "cell_type": "code",
   "execution_count": null,
   "id": "b8dae6b1",
   "metadata": {
    "id": "b8dae6b1"
   },
   "outputs": [],
   "source": [
    "#8. 표지판을 이용하여 동작하기\n",
    "try :\n",
    "    rs.sonar_begin(13) \n",
    "    while True:\n",
    "        SONAR = rs.sonar_read(13)\n",
    "        t.sleep(0.1)   \n",
    "\n",
    "        if 10< SONAR and SONAR < 25 :\n",
    "            print(SONAR)\n",
    "            stop()\n",
    "            time.sleep(1)\n",
    "\n",
    "            SketchName = rCam.GetSketchNames()\n",
    "            if SketchName == None or SketchName[0] ==\"Sketch\":\n",
    "                continue\n",
    "            else:\n",
    "                temp = SketchName[0]\n",
    "                print(temp)\n",
    "                \n",
    "\n",
    "            if temp == 'right':\n",
    "                right()\n",
    "                time.sleep(5)\n",
    "\n",
    "            elif temp == 'left':\n",
    "                left()\n",
    "                time.sleep(2)\n",
    "\n",
    "            elif temp == 'stop':\n",
    "                stop()\n",
    "                time.sleep(0.5)\n",
    "                break\n",
    "\n",
    "        else : \n",
    "             forward()\n",
    "except:\n",
    "    stop()"
   ]
  },
  {
   "cell_type": "code",
   "execution_count": null,
   "id": "2e373b90",
   "metadata": {
    "id": "2e373b90"
   },
   "outputs": [],
   "source": [
    "stop()"
   ]
  },
  {
   "cell_type": "code",
   "execution_count": null,
   "id": "32781c32",
   "metadata": {
    "id": "32781c32"
   },
   "outputs": [],
   "source": [
    "# 요긴 참고 코드 입니다. \n",
    "from time import sleep\n",
    "from RobokitRS import *\n",
    "from RoboCam.robocam import *\n",
    "rs = RobokitRS.RobokitRS()\n",
    "rs.port_open(\"COM5\")\n",
    "rCam = RoboCam()\n",
    "rCam.CameraStreamInit()\n",
    "rCam.CameraStream()\n",
    "rCam.FacedetectorInit()\n",
    "rCam.FacedetectorStart()\n",
    "rCam.TrainFaceData()\n",
    "rCam.SketchDetectorInit()\n",
    "rCam.SketchDetectorStart()\n",
    "rCam.TrainSketchData()\n",
    "while(True):\n",
    "    print(\"==============\")\n",
    "    print(\"사용할 기능을 입력해 주세요.\")\n",
    "    print(\"1) capture\")\n",
    "    print(\"2) train\")\n",
    "    print(\"3) delete\")\n",
    "    print(\"==============\")\n",
    "\n",
    "    ins = input(\"입력해주세요 : \")\n",
    "\n",
    "    if ins == 'train':\n",
    "        rCam.TrainFaceData(facePath=\"C:/Users/SeungHwanSin/Desktop/camtest\")\n",
    "        # rCam.TrainFaceData()\n",
    "        # rCam.TrainSketchData(sketchPath=\"C:/Users/SeungHwanSin/Desktop/camtest2\")\n",
    "    elif ins == 'capture':\n",
    "        var = input(\"저장할 이름을 입력해주세요 : \")\n",
    "        rCam.FaceCapture(name=var,captureCount=5,path=\"C:/Users/SeungHwanSin/Desktop/camtest\")\n",
    "        # rCam.FaceCapture(var)\n",
    "        # rCam.SketchCapture(name=var,captureCount=5,path=\"C:/Users/SeungHwanSin/Desktop/camtest2\")\n",
    "    elif ins == 'delete' :\n",
    "        var = input(\"삭제할 이름을 입력해주세요 : \")\n",
    "        rCam.DeleteFaceData(name=var, facePath=\"C:/Users/SeungHwanSin/Desktop/camtest\")\n",
    "        # rCam.DeleteFaceData(var)\n",
    "        # rCam.DeleteSketchData(name=var, sketchPath=\"C:/Users/SeungHwanSin/Desktop/camtest2\")\n",
    "    else:\n",
    "        print(\"잘못된 명령어입니다. 다시 입력해주세요.\")"
   ]
  }
 ],
 "metadata": {
  "colab": {
   "provenance": []
  },
  "kernelspec": {
   "display_name": "Python 3 (ipykernel)",
   "language": "python",
   "name": "python3"
  },
  "language_info": {
   "codemirror_mode": {
    "name": "ipython",
    "version": 3
   },
   "file_extension": ".py",
   "mimetype": "text/x-python",
   "name": "python",
   "nbconvert_exporter": "python",
   "pygments_lexer": "ipython3",
   "version": "3.7.16"
  }
 },
 "nbformat": 4,
 "nbformat_minor": 5
}
