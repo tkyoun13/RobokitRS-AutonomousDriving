{
 "cells": [
  {
   "cell_type": "markdown",
   "id": "44642782",
   "metadata": {},
   "source": [
    "* RoboCam 및 RobokitRS 라이브러리 업그레이드 필요\n",
    "  \n",
    "  1. pip install --upgrade RoboCam   # 버전 cam은 1.00.0.28 \n",
    "  2. pip install --upgrade RobokitsRS  # 버전 rs 는 1.0.1.24"
   ]
  },
  {
   "cell_type": "code",
   "execution_count": null,
   "id": "838ad4e6",
   "metadata": {},
   "outputs": [],
   "source": [
    "#1. robocam 라이브러리 불러오기\n",
    "from RoboCam.robocam import * \n",
    "rCam = RoboCam()"
   ]
  },
  {
   "cell_type": "code",
   "execution_count": null,
   "id": "a5ed16ef",
   "metadata": {},
   "outputs": [],
   "source": [
    "#2. RoboCam의 스트리밍을 준비 (비번 : 12345678)\n",
    "rCam.CameraStreamInit(512, 512)\n",
    "rCam.CameraStream()"
   ]
  },
  {
   "cell_type": "code",
   "execution_count": null,
   "id": "5e47aef2",
   "metadata": {
    "scrolled": true
   },
   "outputs": [],
   "source": [
    "#3. 숫자 감지시작 \n",
    "rCam.NumberRecognizerInit()\n",
    "rCam.NumberRecognizerStart()"
   ]
  },
  {
   "cell_type": "code",
   "execution_count": null,
   "id": "cc106c2e",
   "metadata": {},
   "outputs": [],
   "source": [
    "while True :\n",
    "    a = rCam.GetRecognizedNumbers()\n",
    "    \n",
    "    try: \n",
    "        print(a)\n",
    "        \n",
    "    except : \n",
    "        pass"
   ]
  },
  {
   "cell_type": "code",
   "execution_count": null,
   "id": "909fb272",
   "metadata": {},
   "outputs": [],
   "source": [
    "#4. 라이브러리 불러오기\n",
    "from RobokitRS.RobokitRS import *\n",
    "import time as t \n",
    "\n",
    "rs = RobokitRS()  "
   ]
  },
  {
   "cell_type": "code",
   "execution_count": null,
   "id": "e92b6056",
   "metadata": {},
   "outputs": [],
   "source": [
    "rs.port_open(\"COM12\") #포트번호는 개인마다 다름"
   ]
  },
  {
   "cell_type": "code",
   "execution_count": null,
   "id": "f6348021",
   "metadata": {},
   "outputs": [],
   "source": [
    "#6. 모빌리티 동작 함수 정의하기\n",
    "# 전진\n",
    "def forward(a):\n",
    "    rs.motor_write(0, 1, a)\n",
    "    rs.motor_write(1, 0, a)\n",
    "    rs.motor_write(2, 1, a)\n",
    "    rs.motor_write(3, 0, a)\n",
    "    t.sleep(0.1)                                \n",
    "\n",
    "# 후진    \n",
    "def reverse():\n",
    "    rs.motor_write(0, 0, 15)\n",
    "    rs.motor_write(1, 1, 15)\n",
    "    rs.motor_write(2, 0, 15)\n",
    "    rs.motor_write(3, 1, 15)\n",
    "    t.sleep(0.1)\n",
    "\n",
    "# 정지\n",
    "def stop():\n",
    "    rs.motor_write(0, 1, 0)\n",
    "    rs.motor_write(1, 0, 0)\n",
    "    rs.motor_write(2, 1, 0)\n",
    "    rs.motor_write(3, 0, 0)\n",
    "    t.sleep(0.1)\n",
    "\n",
    "# 우측\n",
    "def right():\n",
    "    rs.motor_write(0, 1, 15)\n",
    "    rs.motor_write(1, 1, 15)\n",
    "    rs.motor_write(2, 0, 15)\n",
    "    rs.motor_write(3, 0, 15)\n",
    "    t.sleep(0.1)\n",
    "\n",
    "# 좌측 \n",
    "def left():\n",
    "    rs.motor_write(0, 0, 15)\n",
    "    rs.motor_write(1, 0, 15)\n",
    "    rs.motor_write(2, 1, 15)\n",
    "    rs.motor_write(3, 1, 15)\n",
    "    t.sleep(0.1)\n",
    "    \n",
    "#우회전\n",
    "def R_turn():\n",
    "    rs.motor_write(0, 1, 15)\n",
    "    rs.motor_write(1, 1, 15)\n",
    "    rs.motor_write(2, 1, 15)\n",
    "    rs.motor_write(3, 1, 15)\n",
    "    t.sleep(0.5)    \n",
    "\n",
    "#좌회전\n",
    "def L_turn():\n",
    "    rs.motor_write(0, 0, 15)\n",
    "    rs.motor_write(1, 0, 15)\n",
    "    rs.motor_write(2, 0, 15)\n",
    "    rs.motor_write(3, 0, 15)\n",
    "    t.sleep(0.5) "
   ]
  },
  {
   "cell_type": "code",
   "execution_count": null,
   "id": "51ea057f",
   "metadata": {},
   "outputs": [],
   "source": [
    "#7. 초음파 연결 및 값 확인하기 \n",
    "rs.sonar_begin(13) \n",
    "i = 0\n",
    "while i < 10:\n",
    "    i += 1\n",
    "    t.sleep(0.5)\n",
    "    SONAR = rs.sonar_read(13)\n",
    "    print(SONAR)"
   ]
  },
  {
   "cell_type": "code",
   "execution_count": null,
   "id": "2f52fd66",
   "metadata": {},
   "outputs": [],
   "source": [
    "while True:\n",
    "    a = rCam.GetRecognizedNumbers()\n",
    "    try : \n",
    "        a = int(a)\n",
    "        print(a)\n",
    "        break\n",
    "    except:\n",
    "        pass\n",
    "\n",
    "print(\"start\")\n",
    "forward(a)\n",
    "t.sleep(2)\n",
    "stop()\n",
    "t.sleep(1)\n",
    "forward(15)\n",
    "t.sleep(2)\n",
    "stop()"
   ]
  },
  {
   "cell_type": "code",
   "execution_count": null,
   "id": "2e373b90",
   "metadata": {},
   "outputs": [],
   "source": [
    "stop()"
   ]
  }
 ],
 "metadata": {
  "kernelspec": {
   "display_name": "Python 3 (ipykernel)",
   "language": "python",
   "name": "python3"
  },
  "language_info": {
   "codemirror_mode": {
    "name": "ipython",
    "version": 3
   },
   "file_extension": ".py",
   "mimetype": "text/x-python",
   "name": "python",
   "nbconvert_exporter": "python",
   "pygments_lexer": "ipython3",
   "version": "3.7.16"
  }
 },
 "nbformat": 4,
 "nbformat_minor": 5
}
