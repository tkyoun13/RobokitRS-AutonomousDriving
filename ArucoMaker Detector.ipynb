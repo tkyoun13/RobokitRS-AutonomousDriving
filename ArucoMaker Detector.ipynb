{
 "cells": [
  {
   "cell_type": "code",
   "execution_count": null,
   "metadata": {
    "id": "A6fl41yoWhmr"
   },
   "outputs": [],
   "source": [
    "from RobokitRS.RobokitRS import *\n",
    "from RoboCam.robocam import *\n",
    "import time"
   ]
  },
  {
   "cell_type": "code",
   "execution_count": null,
   "metadata": {
    "id": "bvTIObI4Whmt"
   },
   "outputs": [],
   "source": [
    "rs = RobokitRS()\n",
    "rCam = RoboCam()\n",
    "rs.port_open(\"COM12\")"
   ]
  },
  {
   "cell_type": "code",
   "execution_count": null,
   "metadata": {
    "id": "yQkd_eAPWhmv"
   },
   "outputs": [],
   "source": [
    "rCam.CameraStreamInit()\n",
    "rCam.CameraStream()\n",
    "rCam.ArucoDetectorInit()\n",
    "rCam.ArucoDetectorStart()"
   ]
  },
  {
   "cell_type": "code",
   "execution_count": null,
   "metadata": {
    "id": "ttjvmsH3Whmt"
   },
   "outputs": [],
   "source": [
    "def forward(s):\n",
    "    rs.motor_write(0, 1, s)\n",
    "    rs.motor_write(1, 0, s)\n",
    "    rs.motor_write(2, 1, s)\n",
    "    rs.motor_write(3, 0, s)\n",
    "    #time.sleep(0.1)\n",
    "\n",
    "def stop():\n",
    "    rs.motor_write(0, 1, 0)\n",
    "    rs.motor_write(1, 0, 0)\n",
    "    rs.motor_write(2, 1, 0)\n",
    "    rs.motor_write(3, 0, 0)\n",
    "    #time.sleep(1)\n",
    "\n",
    "def right():\n",
    "    rs.motor_write(0, 1, 15)\n",
    "    rs.motor_write(1, 1, 15)\n",
    "    rs.motor_write(2, 0, 15)\n",
    "    rs.motor_write(3, 0, 15)\n",
    "    #time.sleep(0.1)\n",
    "\n",
    "def left():\n",
    "    rs.motor_write(0, 0, 15)\n",
    "    rs.motor_write(1, 0, 15)\n",
    "    rs.motor_write(2, 1, 15)\n",
    "    rs.motor_write(3, 1, 15)\n",
    "    #time.sleep(0.1)\n",
    "    \n",
    "def reverse(s):\n",
    "    rs.motor_write(0, 0, s)\n",
    "    rs.motor_write(1, 1, s)\n",
    "    rs.motor_write(2, 0, s)\n",
    "    rs.motor_write(3, 1, s)\n",
    "    #time.sleep(0.1)\n",
    "    \n",
    "def F_L():\n",
    "    rs.motor_write(0, 0, 0)\n",
    "    rs.motor_write(1, 0, 15)\n",
    "    rs.motor_write(2, 1, 15)\n",
    "    rs.motor_write(3, 1, 0)\n",
    "    time.sleep(0.1)    \n",
    "\n",
    "def F_R():\n",
    "    rs.motor_write(0, 1, 15)\n",
    "    rs.motor_write(1, 1, 0)\n",
    "    rs.motor_write(2, 0, 0)\n",
    "    rs.motor_write(3, 0, 15)\n",
    "    time.sleep(0.1)\n",
    "\n",
    "def B_L():\n",
    "    rs.motor_write(0, 0, 15)\n",
    "    rs.motor_write(1, 0, 0)\n",
    "    rs.motor_write(2, 1, 0)\n",
    "    rs.motor_write(3, 1, 15)\n",
    "    time.sleep(0.1)  \n",
    "    \n",
    "def B_R():\n",
    "    rs.motor_write(0, 1, 0)\n",
    "    rs.motor_write(1, 1, 15)\n",
    "    rs.motor_write(2, 0, 15)\n",
    "    rs.motor_write(3, 0, 0)\n",
    "    time.sleep(0.1)    "
   ]
  },
  {
   "cell_type": "code",
   "execution_count": null,
   "metadata": {
    "id": "-bCi4q6_Whmv"
   },
   "outputs": [],
   "source": [
    "forward(10)\n",
    "stop()"
   ]
  },
  {
   "cell_type": "code",
   "execution_count": null,
   "metadata": {
    "id": "h0VrQnCFWhmv"
   },
   "outputs": [],
   "source": [
    "#마커따라 좌우 이동\n",
    "\n",
    "for i in range(10):\n",
    "    time.sleep(0.2)\n",
    "    x=rCam.GetArucoX(0)\n",
    "    print(x)\n",
    "    try:\n",
    "        if x > 300:    \n",
    "            right()\n",
    "            time.sleep(0.1)\n",
    "            stop()\n",
    "        elif x < 200:\n",
    "            left()\n",
    "            time.sleep(0.1)\n",
    "            stop()\n",
    "        else:   #200~300사이는 정지\n",
    "            stop()\n",
    "            time.sleep(1)\n",
    "\n",
    "    except:\n",
    "        pass\n",
    "\n",
    "#rCam.CameraStreamOff() "
   ]
  },
  {
   "cell_type": "code",
   "execution_count": null,
   "metadata": {
    "id": "D1TXpKpVWhmw"
   },
   "outputs": [],
   "source": [
    "#마커따라 전진 후진 \n",
    "\n",
    "for i in range(10):\n",
    "    time.sleep(0.2)\n",
    "    x=rCam.GetArucoDistance(0)\n",
    "    print(x)\n",
    "    try:\n",
    "        if x>16:\n",
    "            forward(10)\n",
    "            time.sleep(0.5)\n",
    "            stop()\n",
    "        elif x<16:\n",
    "            reverse(10)\n",
    "            time.sleep(0.5)\n",
    "            stop()\n",
    "    except:\n",
    "        pass \n",
    "    \n",
    "    finally:\n",
    "        stop()\n",
    "        \n",
    "#rCam.CameraStreamOff() "
   ]
  },
  {
   "cell_type": "code",
   "execution_count": null,
   "metadata": {
    "id": "1CADtA9EWhmx"
   },
   "outputs": [],
   "source": [
    "# 마커따라 좌우 앞뒤 이동하기\n",
    "\n",
    "for i in range(50):\n",
    "    time.sleep(0.1)\n",
    "    x=rCam.GetArucoX(0)\n",
    "    y=rCam.GetArucoDistance(0)\n",
    "    #print(x)\n",
    "    #print(y)\n",
    "    try:\n",
    "        if x > 300:\n",
    "            right()\n",
    "            time.sleep(0.5)\n",
    "            #stop()\n",
    "            \n",
    "        elif x < 200:\n",
    "            left()\n",
    "            time.sleep(0.5)\n",
    "            #stop()\n",
    "            \n",
    "        '''else:\n",
    "            stop()\n",
    "            time.sleep(0.5)'''\n",
    "        \n",
    "        #time.sleep(0.1)\n",
    "        \n",
    "        if y > 25:\n",
    "            forward(15)\n",
    "            time.sleep(0.5)\n",
    "            #stop()\n",
    "            \n",
    "        elif y < 25:\n",
    "            reverse(15)\n",
    "            time.sleep(0.5)\n",
    "            #stop()\n",
    "\n",
    "    except:\n",
    "        pass\n",
    "    \n",
    "    finally:\n",
    "        stop()"
   ]
  },
  {
   "cell_type": "code",
   "execution_count": null,
   "metadata": {
    "id": "zHFv76NfWhmy"
   },
   "outputs": [],
   "source": [
    "stop()"
   ]
  },
  {
   "cell_type": "code",
   "execution_count": null,
   "metadata": {
    "id": "6z7oWRPtWhmy"
   },
   "outputs": [],
   "source": [
    "rCam.CameraStreamInit()\n",
    "rCam.CameraStream()\n",
    "rCam.ArucoDetectorInit()\n",
    "rCam.ArucoDetectorStart()\n",
    "\n",
    "for i in range(5):\n",
    "    try:\n",
    "        print(\" id  = \", rCam.GetArucoId())\n",
    "        time.sleep(0.5)\n",
    "    except:\n",
    "        pass"
   ]
  },
  {
   "cell_type": "code",
   "execution_count": null,
   "metadata": {
    "id": "Q4IITGhEWhmy"
   },
   "outputs": [],
   "source": [
    "rCam.CameraStreamOff() "
   ]
  },
  {
   "cell_type": "code",
   "execution_count": null,
   "metadata": {
    "id": "Ntk5J6ymWhmz"
   },
   "outputs": [],
   "source": [
    "pip list"
   ]
  },
  {
   "cell_type": "code",
   "execution_count": null,
   "metadata": {
    "id": "9t4PpYUIWhmz"
   },
   "outputs": [],
   "source": [
    "while True :\n",
    "    x=rCam.GetArucoX(0)\n",
    "    y=rCam.GetArucoDistance(0)\n",
    "    \n",
    "    try :\n",
    "        if y < 25 : \n",
    "            reverse(15)\n",
    "            rs.delay(1)\n",
    "        \n",
    "        elif y > 20 : \n",
    "            forward(15)\n",
    "            rs.delay(1)\n",
    "                       \n",
    "        else : \n",
    "            stop()\n",
    "            rs.delay(1)\n",
    "\n",
    "    except:\n",
    "        break\n",
    "\n",
    "stop()"
   ]
  },
  {
   "cell_type": "code",
   "execution_count": null,
   "metadata": {
    "id": "krktnqtyWhm0"
   },
   "outputs": [],
   "source": [
    "stop()"
   ]
  },
  {
   "cell_type": "code",
   "execution_count": null,
   "metadata": {
    "id": "t7HzLoGSWhm0"
   },
   "outputs": [],
   "source": []
  }
 ],
 "metadata": {
  "colab": {
   "provenance": []
  },
  "kernelspec": {
   "display_name": "Python 3 (ipykernel)",
   "language": "python",
   "name": "python3"
  },
  "language_info": {
   "codemirror_mode": {
    "name": "ipython",
    "version": 3
   },
   "file_extension": ".py",
   "mimetype": "text/x-python",
   "name": "python",
   "nbconvert_exporter": "python",
   "pygments_lexer": "ipython3",
   "version": "3.7.16"
  }
 },
 "nbformat": 4,
 "nbformat_minor": 1
}
