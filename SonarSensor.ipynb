{
 "cells": [
  {
   "cell_type": "markdown",
   "id": "0b49fe92",
   "metadata": {
    "id": "0b49fe92"
   },
   "source": [
    "#### 1. 라이브러리 불러오기"
   ]
  },
  {
   "cell_type": "code",
   "execution_count": null,
   "id": "5988de74",
   "metadata": {
    "id": "5988de74"
   },
   "outputs": [],
   "source": [
    "from RobokitRS.RobokitRS import *\n",
    "import time as t\n",
    "\n",
    "rs = RobokitRS()  #RobokitRS() 객체 담기"
   ]
  },
  {
   "cell_type": "markdown",
   "id": "bb8cd8cc",
   "metadata": {
    "id": "bb8cd8cc"
   },
   "source": [
    "#### 2. 포트 연결하기"
   ]
  },
  {
   "cell_type": "code",
   "execution_count": null,
   "id": "e102bd82",
   "metadata": {
    "id": "e102bd82",
    "scrolled": true
   },
   "outputs": [],
   "source": [
    "#2. 포트 연결하기\n",
    "rs.port_open(\"COM14\") #포트번호는 개인마다 다름"
   ]
  },
  {
   "cell_type": "markdown",
   "id": "f1abb02e",
   "metadata": {
    "id": "f1abb02e"
   },
   "source": [
    "#### 3. 동작함수 정의하기"
   ]
  },
  {
   "cell_type": "code",
   "execution_count": null,
   "id": "e885e080",
   "metadata": {
    "id": "e885e080"
   },
   "outputs": [],
   "source": [
    "# 전진\n",
    "def forward():\n",
    "    rs.motor_write(0, 1, 15)\n",
    "    rs.motor_write(1, 0, 15)\n",
    "    rs.motor_write(2, 1, 15)\n",
    "    rs.motor_write(3, 0, 15)\n",
    "    t.sleep(0.1)\n",
    "\n",
    "# 후진\n",
    "def reverse():\n",
    "    rs.motor_write(0, 0, 15)\n",
    "    rs.motor_write(1, 1, 15)\n",
    "    rs.motor_write(2, 0, 15)\n",
    "    rs.motor_write(3, 1, 15)\n",
    "    t.sleep(0.1)\n",
    "\n",
    "# 정지\n",
    "def stop():\n",
    "    rs.motor_write(0, 1, 0)\n",
    "    rs.motor_write(1, 0, 0)\n",
    "    rs.motor_write(2, 1, 0)\n",
    "    rs.motor_write(3, 0, 0)\n",
    "    t.sleep(1)\n",
    "\n",
    "# 우측\n",
    "def right():\n",
    "    rs.motor_write(0, 1, 15)\n",
    "    rs.motor_write(1, 1, 15)\n",
    "    rs.motor_write(2, 0, 15)\n",
    "    rs.motor_write(3, 0, 15)\n",
    "    t.sleep(0.1)\n",
    "\n",
    "# 좌측\n",
    "def left():\n",
    "    rs.motor_write(0, 0, 15)\n",
    "    rs.motor_write(1, 0, 15)\n",
    "    rs.motor_write(2, 1, 15)\n",
    "    rs.motor_write(3, 1, 15)\n",
    "    t.sleep(0.1)\n",
    "\n",
    "    #우회전\n",
    "def R_turn():\n",
    "    rs.motor_write(0, 1, 15)\n",
    "    rs.motor_write(1, 1, 15)\n",
    "    rs.motor_write(2, 1, 15)\n",
    "    rs.motor_write(3, 1, 15)\n",
    "    t.sleep(0.5)\n",
    "\n",
    "#좌회전\n",
    "def L_turn():\n",
    "    rs.motor_write(0, 0, 15)\n",
    "    rs.motor_write(1, 0, 15)\n",
    "    rs.motor_write(2, 0, 15)\n",
    "    rs.motor_write(3, 0, 15)\n",
    "    t.sleep(0.5)\n",
    "\n",
    "    # 전진 좌측 대각선\n",
    "def F_L():\n",
    "    rs.motor_write(0, 0, 0)\n",
    "    rs.motor_write(1, 0, 15)\n",
    "    rs.motor_write(2, 1, 15)\n",
    "    rs.motor_write(3, 1, 0)\n",
    "    t.sleep(0.1)\n",
    "\n",
    "# 전진 우측 대각선\n",
    "def F_R():\n",
    "    rs.motor_write(0, 1, 15)\n",
    "    rs.motor_write(1, 1, 0)\n",
    "    rs.motor_write(2, 0, 0)\n",
    "    rs.motor_write(3, 0, 15)\n",
    "    t.sleep(0.1)\n",
    "\n",
    "# 후진 좌측 대각선\n",
    "def B_L():\n",
    "    rs.motor_write(0, 0, 15)\n",
    "    rs.motor_write(1, 0, 0)\n",
    "    rs.motor_write(2, 1, 0)\n",
    "    rs.motor_write(3, 1, 15)\n",
    "    t.sleep(0.1)\n",
    "\n",
    "# 후진 우측 대각선\n",
    "def B_R():\n",
    "    rs.motor_write(0, 1, 0)\n",
    "    rs.motor_write(1, 1, 15)\n",
    "    rs.motor_write(2, 0, 15)\n",
    "    rs.motor_write(3, 0, 0)\n",
    "    t.sleep(0.1)"
   ]
  },
  {
   "cell_type": "markdown",
   "id": "40b92e3c",
   "metadata": {
    "id": "40b92e3c"
   },
   "source": [
    "#### 4. RGB LED 켜기"
   ]
  },
  {
   "cell_type": "code",
   "execution_count": null,
   "id": "19efcae9",
   "metadata": {
    "id": "19efcae9"
   },
   "outputs": [],
   "source": [
    "#1. RGB LED 색상 설정 후 ON\n",
    "rs.set_rgb_led_color(13, 100,100,100)\n",
    "rs.set_rgb_led_on(13)\n",
    "\n",
    "#2. RGB LED 색상 바꾸기\n",
    "rs.set_rgb_led_red(13)\n",
    "rs.set_rgb_led_on(13)\n",
    "rs.delay()\n",
    "rs.set_rgb_led_orange(13)\n",
    "rs.set_rgb_led_on(13)\n",
    "rs.delay()\n",
    "\n",
    "#3. RGB LED 끄기\n",
    "rs.set_rgb_led_off(13)"
   ]
  },
  {
   "cell_type": "code",
   "execution_count": null,
   "id": "0dd3359a",
   "metadata": {
    "id": "0dd3359a"
   },
   "outputs": [],
   "source": [
    "#4. 반복하기\n",
    "for i in range(10):\n",
    "    rs.set_rgb_led_on(13)\n",
    "    rs.delay(0.1)\n",
    "    rs.set_rgb_led_color(13,100,100,100)\n",
    "    rs.set_rgb_led_on(13)\n",
    "    rs.delay(0.5)\n",
    "    rs.set_rgb_led_color(13,50,0,50)\n",
    "    rs.set_rgb_led_on(13)\n",
    "    rs.delay(0.5)\n",
    "    rs.set_rgb_led_off(13)\n",
    "    rs.delay(0.1)"
   ]
  },
  {
   "cell_type": "markdown",
   "id": "59c3cb26",
   "metadata": {
    "id": "59c3cb26"
   },
   "source": [
    "#### 5. 초음파 센서 읽기"
   ]
  },
  {
   "cell_type": "code",
   "execution_count": null,
   "id": "9a47fc58",
   "metadata": {
    "id": "9a47fc58"
   },
   "outputs": [],
   "source": [
    "#1. 초음파 센서 연결된 핀 번호 입력\n",
    "rs.sonar_begin(12)\n",
    "\n",
    "#2. 초음파센서 값 읽기\n",
    "i = 0\n",
    "while i < 10:\n",
    "    SONAR = rs.sonar_read(12)\n",
    "    t.sleep(0.1)\n",
    "    print(SONAR)\n",
    "    i = i+1"
   ]
  },
  {
   "cell_type": "code",
   "execution_count": null,
   "id": "5228e2c7",
   "metadata": {
    "id": "5228e2c7"
   },
   "outputs": [],
   "source": [
    "#3.장애물 감지\n",
    "rs.sonar_begin(12)\n",
    "\n",
    "while True:  #무한반복\n",
    "    t.sleep(0.5)\n",
    "    SONAR = rs.sonar_read(12)\n",
    "    print(SONAR)\n",
    "\n",
    "    if 5 < SONAR and SONAR < 25 :\n",
    "        rs.set_rgb_led_color(13, 100,0,0)\n",
    "        rs.set_rgb_led_on(13)\n",
    "        #stop()\n",
    "        break\n",
    "\n",
    "    elif SONAR >= 30 :\n",
    "        rs.set_rgb_led_color(13, 100,100,100)\n",
    "        rs.set_rgb_led_on(13)\n",
    "\n",
    "    #forward()"
   ]
  },
  {
   "cell_type": "code",
   "execution_count": null,
   "id": "1bc0ccae",
   "metadata": {
    "id": "1bc0ccae"
   },
   "outputs": [],
   "source": [
    "#4.장애물 감지 에러처리\n",
    "rs.sonar_begin(12)\n",
    "\n",
    "while True:  #무한반복\n",
    "    SONAR = rs.sonar_read(12)\n",
    "    print(SONAR)\n",
    "    t.sleep(0.5)\n",
    "\n",
    "    if SONAR != 0 and SONAR != 508:\n",
    "        rs.set_rgb_led_color(13, 100,100,100)\n",
    "        rs.set_rgb_led_on(13)\n",
    "\n",
    "        if (10 < SONAR) and  (SONAR < 20) :\n",
    "            rs.set_rgb_led_color(13, 100,0,0)\n",
    "            rs.set_rgb_led_on(13)\n",
    "            print(\"정지\")\n",
    "            stop()\n",
    "            break\n",
    "\n",
    "        elif 20 <= SONAR:\n",
    "            print(\"전진\")\n",
    "            forward()\n",
    "\n",
    "    else:\n",
    "        print(\"Error발생 \")\n",
    "        stop()\n",
    "        t.sleep(0.2)"
   ]
  },
  {
   "cell_type": "code",
   "execution_count": null,
   "id": "0ef509bb",
   "metadata": {
    "id": "0ef509bb"
   },
   "outputs": [],
   "source": [
    "#5. try~ except 활용하기\n",
    "try:\n",
    "    rs.sonar_begin(12)\n",
    "\n",
    "    while True:  #무한반복\n",
    "        SONAR = rs.sonar_read(12)\n",
    "        print(SONAR)\n",
    "        t.sleep(0.5)\n",
    "\n",
    "        if SONAR != 0 and SONAR != 508:\n",
    "            rs.set_rgb_led_color(13, 100,100,100)\n",
    "            rs.set_rgb_led_on(13)\n",
    "\n",
    "            if (10 < SONAR) and  (SONAR < 20) :\n",
    "                rs.set_rgb_led_color(13, 100,0,0)\n",
    "                rs.set_rgb_led_on(13)\n",
    "                print(\"정지\")\n",
    "                stop()\n",
    "                break\n",
    "\n",
    "            elif 20 <= SONAR:\n",
    "                print(\"전진\")\n",
    "                forward()\n",
    "\n",
    "        else:\n",
    "            print(\"Error발생 \")\n",
    "            stop()\n",
    "            t.sleep(0.2)\n",
    "except:\n",
    "    print(\"종료\")\n",
    "    stop()"
   ]
  },
  {
   "cell_type": "code",
   "execution_count": null,
   "id": "09a7e0ca",
   "metadata": {
    "id": "09a7e0ca"
   },
   "outputs": [],
   "source": [
    "stop()"
   ]
  },
  {
   "cell_type": "markdown",
   "id": "48a7e763",
   "metadata": {
    "id": "48a7e763"
   },
   "source": [
    "## 미션: 장애물을 피해 목적지에 도착"
   ]
  },
  {
   "cell_type": "code",
   "execution_count": null,
   "id": "4a12d5f3",
   "metadata": {
    "id": "4a12d5f3"
   },
   "outputs": [],
   "source": [
    "#6. 미션코드\n",
    "try:\n",
    "    rs.sonar_begin(12)\n",
    "    cnt = 0\n",
    "    togglr = 1\n",
    "\n",
    "\n",
    "    while True:  #무한반복\n",
    "        print(cnt, togglr)\n",
    "\n",
    "        SONAR = rs.sonar_read(12)\n",
    "        print(SONAR)\n",
    "        t.sleep(0.2)\n",
    "\n",
    "        if SONAR != 0 and SONAR != 508:\n",
    "\n",
    "            if (10 < SONAR) and  (SONAR < 20):\n",
    "\n",
    "                if togglr == 1:\n",
    "                    togglr = 0\n",
    "                    cnt += 1\n",
    "\n",
    "                    if cnt >= 2 :\n",
    "                        print(cnt, \"정지\")\n",
    "                        stop()\n",
    "                        break\n",
    "\n",
    "                    else :\n",
    "                        print(cnt, \"우회전\")\n",
    "                        R_turn()\n",
    "                        t.sleep(1)\n",
    "                        togglr = 1\n",
    "                else :\n",
    "                    pass\n",
    "\n",
    "            elif 20 <= SONAR:\n",
    "                print(\"전진\")\n",
    "                forward()\n",
    "\n",
    "        else:\n",
    "            print(\"Error발생 \")\n",
    "            stop()\n",
    "            t.sleep(0.1)\n",
    "except:\n",
    "    print(\"종료\")\n",
    "    stop()"
   ]
  }
 ],
 "metadata": {
  "celltoolbar": "Raw Cell Format",
  "colab": {
   "provenance": []
  },
  "kernelspec": {
   "display_name": "Python 3 (ipykernel)",
   "language": "python",
   "name": "python3"
  },
  "language_info": {
   "codemirror_mode": {
    "name": "ipython",
    "version": 3
   },
   "file_extension": ".py",
   "mimetype": "text/x-python",
   "name": "python",
   "nbconvert_exporter": "python",
   "pygments_lexer": "ipython3",
   "version": "3.7.16"
  }
 },
 "nbformat": 4,
 "nbformat_minor": 5
}
